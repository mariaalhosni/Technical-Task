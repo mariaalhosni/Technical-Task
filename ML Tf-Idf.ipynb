{
 "cells": [
  {
   "cell_type": "code",
   "execution_count": 26,
   "id": "2703d66e-1e7c-4de0-b50e-7a6a138e510f",
   "metadata": {},
   "outputs": [],
   "source": [
    "import numpy as np\n",
    "import pandas as pd\n",
    "import matplotlib.pyplot as plt\n",
    "from sklearn.datasets import fetch_20newsgroups\n",
    "import seaborn as sns\n",
    "import warnings\n",
    "from sklearn.feature_extraction.text import CountVectorizer\n",
    "from collections import Counter\n",
    "from bs4 import BeautifulSoup\n",
    "from sklearn.feature_extraction.text import ENGLISH_STOP_WORDS\n",
    "import re\n",
    "import spacy\n",
    "from sklearn.feature_extraction.text import TfidfVectorizer\n",
    "from sklearn.naive_bayes import MultinomialNB\n",
    "from sklearn.model_selection import train_test_split\n",
    "from sklearn.metrics import accuracy_score, classification_report\n",
    "from sklearn.model_selection import GridSearchCV\n"
   ]
  },
  {
   "cell_type": "code",
   "execution_count": 2,
   "id": "2756dd3a-ce5e-4cb1-9eb5-3b62d9edadc9",
   "metadata": {},
   "outputs": [],
   "source": [
    "warnings.filterwarnings(\"ignore\")\n",
    "nlp = spacy.load('en_core_web_sm')"
   ]
  },
  {
   "cell_type": "code",
   "execution_count": 3,
   "id": "9081519a-7c1e-4e5f-9715-1d896971f617",
   "metadata": {},
   "outputs": [
    {
     "data": {
      "text/html": [
       "<div>\n",
       "<style scoped>\n",
       "    .dataframe tbody tr th:only-of-type {\n",
       "        vertical-align: middle;\n",
       "    }\n",
       "\n",
       "    .dataframe tbody tr th {\n",
       "        vertical-align: top;\n",
       "    }\n",
       "\n",
       "    .dataframe thead th {\n",
       "        text-align: right;\n",
       "    }\n",
       "</style>\n",
       "<table border=\"1\" class=\"dataframe\">\n",
       "  <thead>\n",
       "    <tr style=\"text-align: right;\">\n",
       "      <th></th>\n",
       "      <th>Category</th>\n",
       "      <th>Text</th>\n",
       "    </tr>\n",
       "  </thead>\n",
       "  <tbody>\n",
       "    <tr>\n",
       "      <th>0</th>\n",
       "      <td>10</td>\n",
       "      <td>\\n\\nI am sure some bashers of Pens fans are pr...</td>\n",
       "    </tr>\n",
       "    <tr>\n",
       "      <th>1</th>\n",
       "      <td>3</td>\n",
       "      <td>My brother is in the market for a high-perform...</td>\n",
       "    </tr>\n",
       "    <tr>\n",
       "      <th>2</th>\n",
       "      <td>17</td>\n",
       "      <td>\\n\\n\\n\\n\\tFinally you said what you dream abou...</td>\n",
       "    </tr>\n",
       "    <tr>\n",
       "      <th>3</th>\n",
       "      <td>3</td>\n",
       "      <td>\\nThink!\\n\\nIt's the SCSI card doing the DMA t...</td>\n",
       "    </tr>\n",
       "    <tr>\n",
       "      <th>4</th>\n",
       "      <td>4</td>\n",
       "      <td>1)    I have an old Jasmine drive which I cann...</td>\n",
       "    </tr>\n",
       "  </tbody>\n",
       "</table>\n",
       "</div>"
      ],
      "text/plain": [
       "   Category                                               Text\n",
       "0        10  \\n\\nI am sure some bashers of Pens fans are pr...\n",
       "1         3  My brother is in the market for a high-perform...\n",
       "2        17  \\n\\n\\n\\n\\tFinally you said what you dream abou...\n",
       "3         3  \\nThink!\\n\\nIt's the SCSI card doing the DMA t...\n",
       "4         4  1)    I have an old Jasmine drive which I cann..."
      ]
     },
     "execution_count": 3,
     "metadata": {},
     "output_type": "execute_result"
    }
   ],
   "source": [
    "newsgroups = fetch_20newsgroups(subset='all', remove=('headers', 'footers', 'quotes'))\n",
    "df_newsgroups = pd.DataFrame({\n",
    "    'Category': newsgroups.target,\n",
    "    'Text': newsgroups.data    \n",
    "})\n",
    "\n",
    "df_newsgroups.head()"
   ]
  },
  {
   "cell_type": "code",
   "execution_count": 4,
   "id": "4b2f1029-528f-4e72-b6c8-12b6c8e5fbe3",
   "metadata": {},
   "outputs": [],
   "source": [
    "def clean_text(text):\n",
    "    text = BeautifulSoup(text, \"html.parser\").get_text()\n",
    "\n",
    "    text = re.sub(r'[^a-zA-Z\\s]', '', text)\n",
    "\n",
    "    text = text.lower()\n",
    "\n",
    "    text = ' '.join([word for word in text.split() if word not in ENGLISH_STOP_WORDS])\n",
    "\n",
    "    return text"
   ]
  },
  {
   "cell_type": "code",
   "execution_count": 7,
   "id": "4e35c47f-24ab-4c19-8f9f-2de1788eacc1",
   "metadata": {},
   "outputs": [],
   "source": [
    "df_newsgroups['cleaned_text'] = df_newsgroups['Text'].apply(clean_text)\n"
   ]
  },
  {
   "cell_type": "code",
   "execution_count": 11,
   "id": "46ae1684-128b-47a9-85ab-86c5f916e3ea",
   "metadata": {},
   "outputs": [
    {
     "name": "stdout",
     "output_type": "stream",
     "text": [
      "                                        cleaned_text  \\\n",
      "0  sure bashers pens fans pretty confused lack ki...   \n",
      "1  brother market highperformance video card supp...   \n",
      "2  finally said dream mediterranean new area grea...   \n",
      "3  think scsi card doing dma transfers disks scsi...   \n",
      "4  old jasmine drive use new understanding upsate...   \n",
      "\n",
      "                                     lemmatized_text  \n",
      "0  sure basher pen fan pretty confused lack kind ...  \n",
      "1  brother market highperformance video card supp...  \n",
      "2  finally say dream mediterranean new area great...  \n",
      "3  think scsi card dma transfer disk scsi card dm...  \n",
      "4  old jasmine drive use new understanding upsate...  \n"
     ]
    }
   ],
   "source": [
    "def lemmatize_text(text):\n",
    "    doc = nlp(text)\n",
    "    return \" \".join([token.lemma_ for token in doc if not token.is_stop and not token.is_punct])\n",
    "\n",
    "df_newsgroups['lemmatized_text'] = df_newsgroups['cleaned_text'].apply(lemmatize_text)\n",
    "\n",
    "print(df_newsgroups[['cleaned_text', 'lemmatized_text']].head())"
   ]
  },
  {
   "cell_type": "markdown",
   "id": "9d7cbd5a-c7e1-457b-ae28-b46f697618cf",
   "metadata": {},
   "source": [
    "## Using Tf-idf on unigrams"
   ]
  },
  {
   "cell_type": "code",
   "execution_count": 12,
   "id": "94b88537-2438-4f60-b462-860cfc5cea66",
   "metadata": {},
   "outputs": [
    {
     "name": "stdout",
     "output_type": "stream",
     "text": [
      "Number of features: 116765\n"
     ]
    }
   ],
   "source": [
    "from sklearn.feature_extraction.text import TfidfVectorizer\n",
    "\n",
    "vectorizer = TfidfVectorizer(stop_words='english')\n",
    "X_tfidf = vectorizer.fit_transform(df_newsgroups['cleaned_text'])\n",
    "\n",
    "num_features = X_tfidf.shape[1]\n",
    "print(f\"Number of features: {num_features}\")\n"
   ]
  },
  {
   "cell_type": "code",
   "execution_count": 13,
   "id": "0afca542-aaf4-4696-aa73-c7a17cd190b5",
   "metadata": {},
   "outputs": [
    {
     "name": "stdout",
     "output_type": "stream",
     "text": [
      "          Term   Frequency\n",
      "47122     just  243.018907\n",
      "51145     like  242.934684\n",
      "48622     know  240.946988\n",
      "25145     dont  239.985079\n",
      "79051   people  207.763828\n",
      "102876   think  203.595734\n",
      "24960     does  201.390874\n",
      "42419       im  200.816751\n",
      "108003     use  176.421135\n",
      "102494  thanks  173.696994\n"
     ]
    },
    {
     "data": {
      "image/png": "[encoded data removed]",
      "text/plain": [
       "<Figure size 1200x600 with 1 Axes>"
      ]
     },
     "metadata": {},
     "output_type": "display_data"
    }
   ],
   "source": [
    "term_frequencies = X_tfidf.sum(axis=0).A1  \n",
    "terms = vectorizer.get_feature_names_out()\n",
    "\n",
    "term_freq_df = pd.DataFrame(list(zip(terms, term_frequencies)), columns=['Term', 'Frequency'])\n",
    "\n",
    "term_freq_df_sorted = term_freq_df.sort_values(by='Frequency', ascending=False)\n",
    "\n",
    "print(term_freq_df_sorted.head(10))\n",
    "\n",
    "plt.figure(figsize=(12, 6))\n",
    "sns.barplot(x=term_freq_df_sorted['Term'][:20], y=term_freq_df_sorted['Frequency'][:20])\n",
    "plt.xticks(rotation=90)\n",
    "plt.title('Top 20 Most Frequent Terms')\n",
    "plt.xlabel('Terms')\n",
    "plt.ylabel('Frequency')\n",
    "plt.show()\n"
   ]
  },
  {
   "cell_type": "code",
   "execution_count": 19,
   "id": "7695486b-be81-44b2-b6cd-89fef248c857",
   "metadata": {},
   "outputs": [],
   "source": [
    "X_train, X_test, y_train, y_test = train_test_split(X_tfidf, df_newsgroups['Category'], test_size=0.2, random_state=42)"
   ]
  },
  {
   "cell_type": "code",
   "execution_count": 21,
   "id": "9fa1e697-d24e-47fd-a03e-32b1e95a37ad",
   "metadata": {},
   "outputs": [
    {
     "name": "stdout",
     "output_type": "stream",
     "text": [
      "Fitting 3 folds for each of 32 candidates, totalling 96 fits\n",
      "Best Parameters: {'C': 100, 'gamma': 'scale', 'kernel': 'rbf'}\n",
      "Best Cross-Validation Accuracy: 0.7289070630400194\n",
      "Test Accuracy: 0.7254641909814323\n"
     ]
    }
   ],
   "source": [
    "from sklearn.svm import SVC\n",
    "from sklearn.model_selection import GridSearchCV\n",
    "\n",
    "svm = SVC()\n",
    "\n",
    "param_grid = {\n",
    "    'C': [0.1, 1, 10, 100],  \n",
    "    'kernel': ['linear', 'rbf'],  \n",
    "    'gamma': ['scale', 0.1, 0.01, 0.001]  \n",
    "}\n",
    "\n",
    "# Set up GridSearchCV\n",
    "grid_search = GridSearchCV(estimator=svm, param_grid=param_grid, cv=3, scoring='accuracy', verbose=2, n_jobs=-1)\n",
    "grid_search.fit(X_train, y_train)  \n",
    "\n",
    "print(\"Best Parameters:\", grid_search.best_params_)\n",
    "print(\"Best Cross-Validation Accuracy:\", grid_search.best_score_)\n",
    "\n",
    "best_svm = grid_search.best_estimator_\n",
    "test_accuracy = best_svm.score(X_test, y_test)\n",
    "print(\"Test Accuracy:\", test_accuracy)\n"
   ]
  },
  {
   "cell_type": "code",
   "execution_count": 28,
   "id": "72285f6a-7ab7-4395-9fd6-ff82fedf1f66",
   "metadata": {},
   "outputs": [
    {
     "name": "stdout",
     "output_type": "stream",
     "text": [
      "Accuracy: 0.7045092838196286\n",
      "Classification Report:\n",
      "                          precision    recall  f1-score   support\n",
      "\n",
      "             alt.atheism       0.74      0.26      0.38       151\n",
      "           comp.graphics       0.68      0.69      0.69       202\n",
      " comp.os.ms-windows.misc       0.68      0.63      0.65       195\n",
      "comp.sys.ibm.pc.hardware       0.52      0.77      0.62       183\n",
      "   comp.sys.mac.hardware       0.85      0.64      0.73       205\n",
      "          comp.windows.x       0.86      0.80      0.83       215\n",
      "            misc.forsale       0.81      0.66      0.73       193\n",
      "               rec.autos       0.80      0.73      0.77       196\n",
      "         rec.motorcycles       0.48      0.75      0.58       168\n",
      "      rec.sport.baseball       0.89      0.82      0.86       211\n",
      "        rec.sport.hockey       0.89      0.91      0.90       198\n",
      "               sci.crypt       0.69      0.84      0.76       201\n",
      "         sci.electronics       0.83      0.62      0.71       202\n",
      "                 sci.med       0.89      0.84      0.86       194\n",
      "               sci.space       0.79      0.80      0.79       189\n",
      "  soc.religion.christian       0.41      0.93      0.57       202\n",
      "      talk.politics.guns       0.69      0.79      0.74       188\n",
      "   talk.politics.mideast       0.78      0.80      0.79       182\n",
      "      talk.politics.misc       0.91      0.40      0.55       159\n",
      "      talk.religion.misc       0.83      0.04      0.07       136\n",
      "\n",
      "                accuracy                           0.70      3770\n",
      "               macro avg       0.75      0.69      0.68      3770\n",
      "            weighted avg       0.75      0.70      0.70      3770\n",
      "\n"
     ]
    }
   ],
   "source": [
    "nb = MultinomialNB(fit_prior=True, alpha = 1)\n",
    "nb.fit(X_train, y_train)\n",
    "y_pred_nb2 = nb.predict(X_test)\n",
    "\n",
    "print(f'Accuracy: {accuracy_score(y_test, y_pred_nb2)}')\n",
    "print('Classification Report:')\n",
    "print(classification_report(y_test, y_pred_nb2, target_names=newsgroups.target_names))"
   ]
  },
  {
   "cell_type": "code",
   "execution_count": 50,
   "id": "2f784c24-ae07-4fda-9e2a-c9f9889f0c2a",
   "metadata": {},
   "outputs": [
    {
     "name": "stdout",
     "output_type": "stream",
     "text": [
      "Accuracy: 0.7551724137931034\n",
      "Classification Report:\n",
      "                          precision    recall  f1-score   support\n",
      "\n",
      "             alt.atheism       0.66      0.59      0.62       151\n",
      "           comp.graphics       0.71      0.75      0.73       202\n",
      " comp.os.ms-windows.misc       0.75      0.65      0.70       195\n",
      "comp.sys.ibm.pc.hardware       0.60      0.74      0.66       183\n",
      "   comp.sys.mac.hardware       0.78      0.72      0.75       205\n",
      "          comp.windows.x       0.88      0.81      0.85       215\n",
      "            misc.forsale       0.82      0.65      0.72       193\n",
      "               rec.autos       0.82      0.77      0.79       196\n",
      "         rec.motorcycles       0.49      0.80      0.61       168\n",
      "      rec.sport.baseball       0.91      0.86      0.88       211\n",
      "        rec.sport.hockey       0.93      0.91      0.92       198\n",
      "               sci.crypt       0.83      0.80      0.81       201\n",
      "         sci.electronics       0.78      0.72      0.75       202\n",
      "                 sci.med       0.88      0.88      0.88       194\n",
      "               sci.space       0.80      0.83      0.81       189\n",
      "  soc.religion.christian       0.68      0.85      0.75       202\n",
      "      talk.politics.guns       0.70      0.78      0.74       188\n",
      "   talk.politics.mideast       0.82      0.81      0.82       182\n",
      "      talk.politics.misc       0.66      0.62      0.64       159\n",
      "      talk.religion.misc       0.71      0.38      0.50       136\n",
      "\n",
      "                accuracy                           0.76      3770\n",
      "               macro avg       0.76      0.75      0.75      3770\n",
      "            weighted avg       0.77      0.76      0.76      3770\n",
      "\n"
     ]
    }
   ],
   "source": [
    "nb = MultinomialNB(fit_prior=True, alpha = 0.01)\n",
    "nb.fit(X_train, y_train)\n",
    "y_pred_nb2 = nb.predict(X_test)\n",
    "\n",
    "print(f'Accuracy: {accuracy_score(y_test, y_pred_nb2)}')\n",
    "print('Classification Report:')\n",
    "print(classification_report(y_test, y_pred_nb2, target_names=newsgroups.target_names))"
   ]
  },
  {
   "cell_type": "code",
   "execution_count": 60,
   "id": "16df59eb-7e8b-4fed-8a26-d1484eb95e61",
   "metadata": {},
   "outputs": [
    {
     "name": "stdout",
     "output_type": "stream",
     "text": [
      "Fitting 3 folds for each of 216 candidates, totalling 648 fits\n",
      "{'bootstrap': False, 'max_depth': None, 'min_samples_leaf': 1, 'min_samples_split': 10, 'n_estimators': 300}\n",
      "0.6734545999278049\n"
     ]
    }
   ],
   "source": [
    "param_grid = {\n",
    "    'n_estimators': [100, 200, 300],\n",
    "    'max_depth': [None, 10, 20, 30],\n",
    "    'min_samples_split': [2, 5, 10],\n",
    "    'min_samples_leaf': [1, 2, 4],\n",
    "    'bootstrap': [True, False]\n",
    "}\n",
    "\n",
    "rf = RandomForestClassifier(random_state=42)\n",
    "grid_search = GridSearchCV(estimator=rf, param_grid=param_grid, cv=3, n_jobs=-1, verbose=2)\n",
    "grid_search.fit(X_train, y_train)\n",
    "\n",
    "print(grid_search.best_params_)\n",
    "print(grid_search.best_score_)"
   ]
  }
 ],
 "metadata": {
  "kernelspec": {
   "display_name": "Python 3 (ipykernel)",
   "language": "python",
   "name": "python3"
  },
  "language_info": {
   "codemirror_mode": {
    "name": "ipython",
    "version": 3
   },
   "file_extension": ".py",
   "mimetype": "text/x-python",
   "name": "python",
   "nbconvert_exporter": "python",
   "pygments_lexer": "ipython3",
   "version": "3.11.7"
  }
 },
 "nbformat": 4,
 "nbformat_minor": 5
}
