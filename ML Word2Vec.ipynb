{
 "cells": [
  {
   "cell_type": "code",
   "execution_count": 51,
   "id": "03d5308f-ae56-4e8f-9c6d-1029eb43219d",
   "metadata": {},
   "outputs": [],
   "source": [
    "import numpy as np\n",
    "import pandas as pd\n",
    "import matplotlib.pyplot as plt\n",
    "from sklearn.datasets import fetch_20newsgroups\n",
    "import seaborn as sns\n",
    "import warnings\n",
    "from sklearn.feature_extraction.text import CountVectorizer\n",
    "from collections import Counter\n",
    "from bs4 import BeautifulSoup\n",
    "from sklearn.feature_extraction.text import ENGLISH_STOP_WORDS\n",
    "import re\n",
    "import spacy\n",
    "from sklearn.feature_extraction.text import TfidfVectorizer\n",
    "from sklearn.model_selection import GridSearchCV\n"
   ]
  },
  {
   "cell_type": "code",
   "execution_count": 19,
   "id": "6c96d56b-bb72-4a4c-9da4-15c4a49915b2",
   "metadata": {},
   "outputs": [],
   "source": [
    "from gensim.models import Word2Vec\n",
    "from nltk.tokenize import word_tokenize"
   ]
  },
  {
   "cell_type": "code",
   "execution_count": 3,
   "id": "1904118e-526a-4268-8464-08a166f2d1bf",
   "metadata": {},
   "outputs": [],
   "source": [
    "warnings.filterwarnings(\"ignore\")\n"
   ]
  },
  {
   "cell_type": "code",
   "execution_count": 13,
   "id": "75f1f53a-8d33-4f38-94f0-ce79837812fd",
   "metadata": {},
   "outputs": [],
   "source": [
    "nlp = spacy.load('en_core_web_sm')"
   ]
  },
  {
   "cell_type": "code",
   "execution_count": 7,
   "id": "237527df-49c6-4033-b201-54e4cbfde2f2",
   "metadata": {},
   "outputs": [
    {
     "data": {
      "text/html": [
       "<div>\n",
       "<style scoped>\n",
       "    .dataframe tbody tr th:only-of-type {\n",
       "        vertical-align: middle;\n",
       "    }\n",
       "\n",
       "    .dataframe tbody tr th {\n",
       "        vertical-align: top;\n",
       "    }\n",
       "\n",
       "    .dataframe thead th {\n",
       "        text-align: right;\n",
       "    }\n",
       "</style>\n",
       "<table border=\"1\" class=\"dataframe\">\n",
       "  <thead>\n",
       "    <tr style=\"text-align: right;\">\n",
       "      <th></th>\n",
       "      <th>Category</th>\n",
       "      <th>Text</th>\n",
       "    </tr>\n",
       "  </thead>\n",
       "  <tbody>\n",
       "    <tr>\n",
       "      <th>0</th>\n",
       "      <td>10</td>\n",
       "      <td>\\n\\nI am sure some bashers of Pens fans are pr...</td>\n",
       "    </tr>\n",
       "    <tr>\n",
       "      <th>1</th>\n",
       "      <td>3</td>\n",
       "      <td>My brother is in the market for a high-perform...</td>\n",
       "    </tr>\n",
       "    <tr>\n",
       "      <th>2</th>\n",
       "      <td>17</td>\n",
       "      <td>\\n\\n\\n\\n\\tFinally you said what you dream abou...</td>\n",
       "    </tr>\n",
       "    <tr>\n",
       "      <th>3</th>\n",
       "      <td>3</td>\n",
       "      <td>\\nThink!\\n\\nIt's the SCSI card doing the DMA t...</td>\n",
       "    </tr>\n",
       "    <tr>\n",
       "      <th>4</th>\n",
       "      <td>4</td>\n",
       "      <td>1)    I have an old Jasmine drive which I cann...</td>\n",
       "    </tr>\n",
       "  </tbody>\n",
       "</table>\n",
       "</div>"
      ],
      "text/plain": [
       "   Category                                               Text\n",
       "0        10  \\n\\nI am sure some bashers of Pens fans are pr...\n",
       "1         3  My brother is in the market for a high-perform...\n",
       "2        17  \\n\\n\\n\\n\\tFinally you said what you dream abou...\n",
       "3         3  \\nThink!\\n\\nIt's the SCSI card doing the DMA t...\n",
       "4         4  1)    I have an old Jasmine drive which I cann..."
      ]
     },
     "execution_count": 7,
     "metadata": {},
     "output_type": "execute_result"
    }
   ],
   "source": [
    "newsgroups = fetch_20newsgroups(subset='all', remove=('headers', 'footers', 'quotes'))\n",
    "df_newsgroups = pd.DataFrame({\n",
    "    'Category': newsgroups.target,\n",
    "    'Text': newsgroups.data    \n",
    "})\n",
    "\n",
    "df_newsgroups.head()"
   ]
  },
  {
   "cell_type": "markdown",
   "id": "d0004869-00f7-4a82-9176-006c60d464b0",
   "metadata": {},
   "source": [
    "## Data Preprocessing"
   ]
  },
  {
   "cell_type": "code",
   "execution_count": 9,
   "id": "f5a82069-43ba-4c77-95a3-14aaad0e6738",
   "metadata": {},
   "outputs": [],
   "source": [
    "def clean_text(text):\n",
    "    text = BeautifulSoup(text, \"html.parser\").get_text()\n",
    "\n",
    "    text = re.sub(r'[^a-zA-Z\\s]', '', text)\n",
    "\n",
    "    text = text.lower()\n",
    "\n",
    "    text = ' '.join([word for word in text.split() if word not in ENGLISH_STOP_WORDS])\n",
    "\n",
    "    return text"
   ]
  },
  {
   "cell_type": "code",
   "execution_count": 11,
   "id": "2975b962-bdb7-40f6-86f9-479f4ae9b3a9",
   "metadata": {},
   "outputs": [],
   "source": [
    "df_newsgroups['cleaned_text'] = df_newsgroups['Text'].apply(clean_text)"
   ]
  },
  {
   "cell_type": "code",
   "execution_count": 15,
   "id": "d60ad06d-9cb4-49e4-a8c7-4f4caf6b3044",
   "metadata": {},
   "outputs": [
    {
     "name": "stdout",
     "output_type": "stream",
     "text": [
      "                                        cleaned_text  \\\n",
      "0  sure bashers pens fans pretty confused lack ki...   \n",
      "1  brother market highperformance video card supp...   \n",
      "2  finally said dream mediterranean new area grea...   \n",
      "3  think scsi card doing dma transfers disks scsi...   \n",
      "4  old jasmine drive use new understanding upsate...   \n",
      "\n",
      "                                     lemmatized_text  \n",
      "0  sure basher pen fan pretty confused lack kind ...  \n",
      "1  brother market highperformance video card supp...  \n",
      "2  finally say dream mediterranean new area great...  \n",
      "3  think scsi card dma transfer disk scsi card dm...  \n",
      "4  old jasmine drive use new understanding upsate...  \n"
     ]
    }
   ],
   "source": [
    "def lemmatize_text(text):\n",
    "    doc = nlp(text)\n",
    "    return \" \".join([token.lemma_ for token in doc if not token.is_stop and not token.is_punct])\n",
    "\n",
    "df_newsgroups['lemmatized_text'] = df_newsgroups['cleaned_text'].apply(lemmatize_text)\n",
    "\n",
    "print(df_newsgroups[['cleaned_text', 'lemmatized_text']].head())"
   ]
  },
  {
   "cell_type": "code",
   "execution_count": 17,
   "id": "6baf22e7-d36b-4205-845a-7d67eb8e3b36",
   "metadata": {},
   "outputs": [
    {
     "data": {
      "text/html": [
       "<div>\n",
       "<style scoped>\n",
       "    .dataframe tbody tr th:only-of-type {\n",
       "        vertical-align: middle;\n",
       "    }\n",
       "\n",
       "    .dataframe tbody tr th {\n",
       "        vertical-align: top;\n",
       "    }\n",
       "\n",
       "    .dataframe thead th {\n",
       "        text-align: right;\n",
       "    }\n",
       "</style>\n",
       "<table border=\"1\" class=\"dataframe\">\n",
       "  <thead>\n",
       "    <tr style=\"text-align: right;\">\n",
       "      <th></th>\n",
       "      <th>Category</th>\n",
       "      <th>Text</th>\n",
       "      <th>cleaned_text</th>\n",
       "      <th>lemmatized_text</th>\n",
       "    </tr>\n",
       "  </thead>\n",
       "  <tbody>\n",
       "    <tr>\n",
       "      <th>0</th>\n",
       "      <td>10</td>\n",
       "      <td>\\n\\nI am sure some bashers of Pens fans are pr...</td>\n",
       "      <td>sure bashers pens fans pretty confused lack ki...</td>\n",
       "      <td>sure basher pen fan pretty confused lack kind ...</td>\n",
       "    </tr>\n",
       "    <tr>\n",
       "      <th>1</th>\n",
       "      <td>3</td>\n",
       "      <td>My brother is in the market for a high-perform...</td>\n",
       "      <td>brother market highperformance video card supp...</td>\n",
       "      <td>brother market highperformance video card supp...</td>\n",
       "    </tr>\n",
       "    <tr>\n",
       "      <th>2</th>\n",
       "      <td>17</td>\n",
       "      <td>\\n\\n\\n\\n\\tFinally you said what you dream abou...</td>\n",
       "      <td>finally said dream mediterranean new area grea...</td>\n",
       "      <td>finally say dream mediterranean new area great...</td>\n",
       "    </tr>\n",
       "    <tr>\n",
       "      <th>3</th>\n",
       "      <td>3</td>\n",
       "      <td>\\nThink!\\n\\nIt's the SCSI card doing the DMA t...</td>\n",
       "      <td>think scsi card doing dma transfers disks scsi...</td>\n",
       "      <td>think scsi card dma transfer disk scsi card dm...</td>\n",
       "    </tr>\n",
       "    <tr>\n",
       "      <th>4</th>\n",
       "      <td>4</td>\n",
       "      <td>1)    I have an old Jasmine drive which I cann...</td>\n",
       "      <td>old jasmine drive use new understanding upsate...</td>\n",
       "      <td>old jasmine drive use new understanding upsate...</td>\n",
       "    </tr>\n",
       "    <tr>\n",
       "      <th>...</th>\n",
       "      <td>...</td>\n",
       "      <td>...</td>\n",
       "      <td>...</td>\n",
       "      <td>...</td>\n",
       "    </tr>\n",
       "    <tr>\n",
       "      <th>18841</th>\n",
       "      <td>13</td>\n",
       "      <td>DN&gt; From: nyeda@cnsvax.uwec.edu (David Nye)\\nD...</td>\n",
       "      <td>dn nyedacnsvaxuwecedu david nye dn neurology d...</td>\n",
       "      <td>dn nyedacnsvaxuwecedu david nye dn neurology d...</td>\n",
       "    </tr>\n",
       "    <tr>\n",
       "      <th>18842</th>\n",
       "      <td>12</td>\n",
       "      <td>\\nNot in isolated ground recepticles (usually ...</td>\n",
       "      <td>isolated ground recepticles usually unusual co...</td>\n",
       "      <td>isolate ground recepticle usually unusual colo...</td>\n",
       "    </tr>\n",
       "    <tr>\n",
       "      <th>18843</th>\n",
       "      <td>3</td>\n",
       "      <td>I just installed a DX2-66 CPU in a clone mothe...</td>\n",
       "      <td>just installed dx cpu clone motherboard tried ...</td>\n",
       "      <td>instal dx cpu clone motherboard try mount cpu ...</td>\n",
       "    </tr>\n",
       "    <tr>\n",
       "      <th>18844</th>\n",
       "      <td>1</td>\n",
       "      <td>\\nWouldn't this require a hyper-sphere.  In 3-...</td>\n",
       "      <td>wouldnt require hypersphere space points speci...</td>\n",
       "      <td>not require hypersphere space point specifie s...</td>\n",
       "    </tr>\n",
       "    <tr>\n",
       "      <th>18845</th>\n",
       "      <td>7</td>\n",
       "      <td>After a tip from Gary Crum (crum@fcom.cc.utah....</td>\n",
       "      <td>tip gary crum crumfcomccutahedu got phone pont...</td>\n",
       "      <td>tip gary crum crumfcomccutahedu get phone pont...</td>\n",
       "    </tr>\n",
       "  </tbody>\n",
       "</table>\n",
       "<p>18846 rows × 4 columns</p>\n",
       "</div>"
      ],
      "text/plain": [
       "       Category                                               Text  \\\n",
       "0            10  \\n\\nI am sure some bashers of Pens fans are pr...   \n",
       "1             3  My brother is in the market for a high-perform...   \n",
       "2            17  \\n\\n\\n\\n\\tFinally you said what you dream abou...   \n",
       "3             3  \\nThink!\\n\\nIt's the SCSI card doing the DMA t...   \n",
       "4             4  1)    I have an old Jasmine drive which I cann...   \n",
       "...         ...                                                ...   \n",
       "18841        13  DN> From: nyeda@cnsvax.uwec.edu (David Nye)\\nD...   \n",
       "18842        12  \\nNot in isolated ground recepticles (usually ...   \n",
       "18843         3  I just installed a DX2-66 CPU in a clone mothe...   \n",
       "18844         1  \\nWouldn't this require a hyper-sphere.  In 3-...   \n",
       "18845         7  After a tip from Gary Crum (crum@fcom.cc.utah....   \n",
       "\n",
       "                                            cleaned_text  \\\n",
       "0      sure bashers pens fans pretty confused lack ki...   \n",
       "1      brother market highperformance video card supp...   \n",
       "2      finally said dream mediterranean new area grea...   \n",
       "3      think scsi card doing dma transfers disks scsi...   \n",
       "4      old jasmine drive use new understanding upsate...   \n",
       "...                                                  ...   \n",
       "18841  dn nyedacnsvaxuwecedu david nye dn neurology d...   \n",
       "18842  isolated ground recepticles usually unusual co...   \n",
       "18843  just installed dx cpu clone motherboard tried ...   \n",
       "18844  wouldnt require hypersphere space points speci...   \n",
       "18845  tip gary crum crumfcomccutahedu got phone pont...   \n",
       "\n",
       "                                         lemmatized_text  \n",
       "0      sure basher pen fan pretty confused lack kind ...  \n",
       "1      brother market highperformance video card supp...  \n",
       "2      finally say dream mediterranean new area great...  \n",
       "3      think scsi card dma transfer disk scsi card dm...  \n",
       "4      old jasmine drive use new understanding upsate...  \n",
       "...                                                  ...  \n",
       "18841  dn nyedacnsvaxuwecedu david nye dn neurology d...  \n",
       "18842  isolate ground recepticle usually unusual colo...  \n",
       "18843  instal dx cpu clone motherboard try mount cpu ...  \n",
       "18844  not require hypersphere space point specifie s...  \n",
       "18845  tip gary crum crumfcomccutahedu get phone pont...  \n",
       "\n",
       "[18846 rows x 4 columns]"
      ]
     },
     "execution_count": 17,
     "metadata": {},
     "output_type": "execute_result"
    }
   ],
   "source": [
    "df_newsgroups"
   ]
  },
  {
   "cell_type": "markdown",
   "id": "042cc530-1854-44b0-a24b-08ce1803d46b",
   "metadata": {},
   "source": [
    "## Implementing Word2Vec"
   ]
  },
  {
   "cell_type": "code",
   "execution_count": 21,
   "id": "dcaac169-674c-48b0-a553-8f521956cfb7",
   "metadata": {},
   "outputs": [],
   "source": [
    "df_newsgroups['tokenized_text'] = df_newsgroups['lemmatized_text'].apply(word_tokenize)"
   ]
  },
  {
   "cell_type": "code",
   "execution_count": 23,
   "id": "fe8200a8-cb9f-41ef-ba27-3ee66a9dbfb6",
   "metadata": {},
   "outputs": [
    {
     "name": "stdout",
     "output_type": "stream",
     "text": [
      "                                     lemmatized_text  \\\n",
      "0  sure basher pen fan pretty confused lack kind ...   \n",
      "1  brother market highperformance video card supp...   \n",
      "2  finally say dream mediterranean new area great...   \n",
      "3  think scsi card dma transfer disk scsi card dm...   \n",
      "4  old jasmine drive use new understanding upsate...   \n",
      "\n",
      "                                      tokenized_text  \n",
      "0  [sure, basher, pen, fan, pretty, confused, lac...  \n",
      "1  [brother, market, highperformance, video, card...  \n",
      "2  [finally, say, dream, mediterranean, new, area...  \n",
      "3  [think, scsi, card, dma, transfer, disk, scsi,...  \n",
      "4  [old, jasmine, drive, use, new, understanding,...  \n"
     ]
    }
   ],
   "source": [
    "print(df_newsgroups[['lemmatized_text', 'tokenized_text']].head())"
   ]
  },
  {
   "cell_type": "code",
   "execution_count": 25,
   "id": "80b55e10-f6c1-4de4-9c47-a00b59f53272",
   "metadata": {},
   "outputs": [],
   "source": [
    "tokenized_corpus = df_newsgroups['tokenized_text'].tolist()"
   ]
  },
  {
   "cell_type": "code",
   "execution_count": 27,
   "id": "64ec0cd7-f20c-4fc4-98eb-60d88949f57f",
   "metadata": {},
   "outputs": [],
   "source": [
    "word2vec_model = Word2Vec(\n",
    "    sentences=tokenized_corpus,\n",
    "    vector_size=100,  \n",
    "    window=7,         \n",
    "    min_count=2,     \n",
    "    sg=1,             \n",
    "    workers=4,        \n",
    "    epochs=15,        \n",
    "    negative=5        \n",
    ")"
   ]
  },
  {
   "cell_type": "code",
   "execution_count": 31,
   "id": "c0017aa4-23c7-434f-96bc-507ee671d474",
   "metadata": {},
   "outputs": [
    {
     "data": {
      "text/plain": [
       "array([-0.3628456 , -0.01796141,  0.38234073,  0.14687382,  0.09169935,\n",
       "        0.00779224, -0.3508467 ,  0.34696865,  0.02908266, -0.01883128,\n",
       "        0.45185366, -0.2733189 ,  0.18089883,  0.04395417, -0.22003476,\n",
       "       -0.38552958, -0.17148079,  0.01111998, -0.22622588, -0.49584383,\n",
       "       -0.14950617,  0.23171411,  0.13564906,  0.20849448, -0.09669879,\n",
       "        0.06030422,  0.10865565,  0.0312739 , -0.22111821,  0.22226429,\n",
       "        0.06974188, -0.07136529, -0.01045551, -0.48826924,  0.05174782,\n",
       "        0.14503899,  0.3503733 , -0.15649039, -0.00623139, -0.23359975,\n",
       "        0.2990166 , -0.12452695, -0.0139723 ,  0.03751213,  0.35446075,\n",
       "       -0.4852892 ,  0.08340874,  0.04595486,  0.09617549,  0.13342775,\n",
       "        0.45401037, -0.18125238, -0.08532505,  0.32491162, -0.37385458,\n",
       "        0.14427903,  0.48534295,  0.17384015,  0.06783806, -0.5055389 ,\n",
       "        0.22742094,  0.02461065,  0.19758554, -0.38678634, -0.11244118,\n",
       "        0.25492504,  0.13825628,  0.22177635, -0.32256126, -0.11347766,\n",
       "       -0.25335136,  0.2855231 , -0.07594448, -0.21955222,  0.59584314,\n",
       "        0.07548385,  0.1399976 , -0.15991527, -0.4205254 , -0.24582684,\n",
       "       -0.2654211 ,  0.3893498 ,  0.30608997,  0.5149844 ,  0.22967598,\n",
       "        0.07853641,  0.21909446,  0.2228377 ,  0.4221344 , -0.07337177,\n",
       "        0.21240717,  0.19834407,  0.19672199, -0.4628636 ,  0.38325322,\n",
       "        0.13532639,  0.02196531, -0.3058783 ,  0.03320221,  0.02161277],\n",
       "      dtype=float32)"
      ]
     },
     "execution_count": 31,
     "metadata": {},
     "output_type": "execute_result"
    }
   ],
   "source": [
    "example_vector = word2vec_model.wv['example']\n",
    "example_vector"
   ]
  },
  {
   "cell_type": "code",
   "execution_count": 33,
   "id": "5e59b976-907d-4eb5-bdf4-d17f8b2d41a8",
   "metadata": {},
   "outputs": [],
   "source": [
    "def document_embedding(tokenized_text, model):\n",
    "    embeddings = [model.wv[word] for word in tokenized_text if word in model.wv]\n",
    "    return np.mean(embeddings, axis=0) if embeddings else np.zeros(model.vector_size)"
   ]
  },
  {
   "cell_type": "code",
   "execution_count": 35,
   "id": "584c88b4-5a95-4624-a2d5-0e5f7b4fc0c6",
   "metadata": {},
   "outputs": [],
   "source": [
    "df_newsgroups['doc_embedding'] = df_newsgroups['tokenized_text'].apply(lambda x: document_embedding(x, word2vec_model))"
   ]
  },
  {
   "cell_type": "code",
   "execution_count": 37,
   "id": "b4ed3b5d-1988-4a4a-aac6-69258cdab863",
   "metadata": {},
   "outputs": [
    {
     "name": "stdout",
     "output_type": "stream",
     "text": [
      "   Category                                      doc_embedding\n",
      "0        10  [-0.18359414, 0.39904758, 0.15155232, -0.00854...\n",
      "1         3  [-0.5865672, 0.04830786, -0.12760575, -0.01073...\n",
      "2        17  [-0.058039468, 0.3535628, 0.13834186, 0.166795...\n",
      "3         3  [-0.31932127, 0.14305022, 0.23791373, -0.02077...\n",
      "4         4  [-0.27733502, 0.1666114, 0.05771007, 0.0299441...\n"
     ]
    }
   ],
   "source": [
    "print(df_newsgroups[['Category', 'doc_embedding']].head())"
   ]
  },
  {
   "cell_type": "code",
   "execution_count": 39,
   "id": "95a93577-7ab6-40f6-9363-ffa3a79ac2e6",
   "metadata": {},
   "outputs": [],
   "source": [
    "from sklearn.model_selection import train_test_split\n",
    "from sklearn.ensemble import RandomForestClassifier"
   ]
  },
  {
   "cell_type": "code",
   "execution_count": 41,
   "id": "1f6167e4-a2ce-4d3c-b0aa-e81da7053d23",
   "metadata": {},
   "outputs": [],
   "source": [
    "X = np.vstack(df_newsgroups['doc_embedding'])\n",
    "y = df_newsgroups['Category']"
   ]
  },
  {
   "cell_type": "code",
   "execution_count": 43,
   "id": "0705b209-9dcc-48c4-bb00-74b89071438f",
   "metadata": {},
   "outputs": [],
   "source": [
    "X_train, X_test, y_train, y_test = train_test_split(X, y, test_size=0.2, random_state=42)"
   ]
  },
  {
   "cell_type": "code",
   "execution_count": 45,
   "id": "8d941c99-330c-42c7-b4a0-1dc13363b22e",
   "metadata": {},
   "outputs": [
    {
     "data": {
      "text/html": [
       "<style>#sk-container-id-1 {color: black;background-color: white;}#sk-container-id-1 pre{padding: 0;}#sk-container-id-1 div.sk-toggleable {background-color: white;}#sk-container-id-1 label.sk-toggleable__label {cursor: pointer;display: block;width: 100%;margin-bottom: 0;padding: 0.3em;box-sizing: border-box;text-align: center;}#sk-container-id-1 label.sk-toggleable__label-arrow:before {content: \"▸\";float: left;margin-right: 0.25em;color: #696969;}#sk-container-id-1 label.sk-toggleable__label-arrow:hover:before {color: black;}#sk-container-id-1 div.sk-estimator:hover label.sk-toggleable__label-arrow:before {color: black;}#sk-container-id-1 div.sk-toggleable__content {max-height: 0;max-width: 0;overflow: hidden;text-align: left;background-color: #f0f8ff;}#sk-container-id-1 div.sk-toggleable__content pre {margin: 0.2em;color: black;border-radius: 0.25em;background-color: #f0f8ff;}#sk-container-id-1 input.sk-toggleable__control:checked~div.sk-toggleable__content {max-height: 200px;max-width: 100%;overflow: auto;}#sk-container-id-1 input.sk-toggleable__control:checked~label.sk-toggleable__label-arrow:before {content: \"▾\";}#sk-container-id-1 div.sk-estimator input.sk-toggleable__control:checked~label.sk-toggleable__label {background-color: #d4ebff;}#sk-container-id-1 div.sk-label input.sk-toggleable__control:checked~label.sk-toggleable__label {background-color: #d4ebff;}#sk-container-id-1 input.sk-hidden--visually {border: 0;clip: rect(1px 1px 1px 1px);clip: rect(1px, 1px, 1px, 1px);height: 1px;margin: -1px;overflow: hidden;padding: 0;position: absolute;width: 1px;}#sk-container-id-1 div.sk-estimator {font-family: monospace;background-color: #f0f8ff;border: 1px dotted black;border-radius: 0.25em;box-sizing: border-box;margin-bottom: 0.5em;}#sk-container-id-1 div.sk-estimator:hover {background-color: #d4ebff;}#sk-container-id-1 div.sk-parallel-item::after {content: \"\";width: 100%;border-bottom: 1px solid gray;flex-grow: 1;}#sk-container-id-1 div.sk-label:hover label.sk-toggleable__label {background-color: #d4ebff;}#sk-container-id-1 div.sk-serial::before {content: \"\";position: absolute;border-left: 1px solid gray;box-sizing: border-box;top: 0;bottom: 0;left: 50%;z-index: 0;}#sk-container-id-1 div.sk-serial {display: flex;flex-direction: column;align-items: center;background-color: white;padding-right: 0.2em;padding-left: 0.2em;position: relative;}#sk-container-id-1 div.sk-item {position: relative;z-index: 1;}#sk-container-id-1 div.sk-parallel {display: flex;align-items: stretch;justify-content: center;background-color: white;position: relative;}#sk-container-id-1 div.sk-item::before, #sk-container-id-1 div.sk-parallel-item::before {content: \"\";position: absolute;border-left: 1px solid gray;box-sizing: border-box;top: 0;bottom: 0;left: 50%;z-index: -1;}#sk-container-id-1 div.sk-parallel-item {display: flex;flex-direction: column;z-index: 1;position: relative;background-color: white;}#sk-container-id-1 div.sk-parallel-item:first-child::after {align-self: flex-end;width: 50%;}#sk-container-id-1 div.sk-parallel-item:last-child::after {align-self: flex-start;width: 50%;}#sk-container-id-1 div.sk-parallel-item:only-child::after {width: 0;}#sk-container-id-1 div.sk-dashed-wrapped {border: 1px dashed gray;margin: 0 0.4em 0.5em 0.4em;box-sizing: border-box;padding-bottom: 0.4em;background-color: white;}#sk-container-id-1 div.sk-label label {font-family: monospace;font-weight: bold;display: inline-block;line-height: 1.2em;}#sk-container-id-1 div.sk-label-container {text-align: center;}#sk-container-id-1 div.sk-container {/* jupyter's `normalize.less` sets `[hidden] { display: none; }` but bootstrap.min.css set `[hidden] { display: none !important; }` so we also need the `!important` here to be able to override the default hidden behavior on the sphinx rendered scikit-learn.org. See: https://github.com/scikit-learn/scikit-learn/issues/21755 */display: inline-block !important;position: relative;}#sk-container-id-1 div.sk-text-repr-fallback {display: none;}</style><div id=\"sk-container-id-1\" class=\"sk-top-container\"><div class=\"sk-text-repr-fallback\"><pre>RandomForestClassifier()</pre><b>In a Jupyter environment, please rerun this cell to show the HTML representation or trust the notebook. <br />On GitHub, the HTML representation is unable to render, please try loading this page with nbviewer.org.</b></div><div class=\"sk-container\" hidden><div class=\"sk-item\"><div class=\"sk-estimator sk-toggleable\"><input class=\"sk-toggleable__control sk-hidden--visually\" id=\"sk-estimator-id-1\" type=\"checkbox\" checked><label for=\"sk-estimator-id-1\" class=\"sk-toggleable__label sk-toggleable__label-arrow\">RandomForestClassifier</label><div class=\"sk-toggleable__content\"><pre>RandomForestClassifier()</pre></div></div></div></div></div>"
      ],
      "text/plain": [
       "RandomForestClassifier()"
      ]
     },
     "execution_count": 45,
     "metadata": {},
     "output_type": "execute_result"
    }
   ],
   "source": [
    "clf = RandomForestClassifier()\n",
    "clf.fit(X_train, y_train)"
   ]
  },
  {
   "cell_type": "code",
   "execution_count": 46,
   "id": "bbcab0fd-a0f6-4db0-b568-0e49c11c22aa",
   "metadata": {},
   "outputs": [
    {
     "name": "stdout",
     "output_type": "stream",
     "text": [
      "Model Accuracy: 0.6628647214854111\n"
     ]
    }
   ],
   "source": [
    "accuracy = clf.score(X_test, y_test)\n",
    "print(f\"Model Accuracy: {accuracy}\")"
   ]
  },
  {
   "cell_type": "code",
   "execution_count": 53,
   "id": "bbd45c7b-aa90-4b81-8cf7-ebb6fcda68e3",
   "metadata": {},
   "outputs": [
    {
     "name": "stdout",
     "output_type": "stream",
     "text": [
      "Fitting 3 folds for each of 216 candidates, totalling 648 fits\n",
      "{'bootstrap': False, 'max_depth': None, 'min_samples_leaf': 1, 'min_samples_split': 2, 'n_estimators': 300}\n",
      "0.6908329819268163\n"
     ]
    }
   ],
   "source": [
    "param_grid = {\n",
    "    'n_estimators': [100, 200, 300],\n",
    "    'max_depth': [None, 10, 20, 30],\n",
    "    'min_samples_split': [2, 5, 10],\n",
    "    'min_samples_leaf': [1, 2, 4],\n",
    "    'bootstrap': [True, False]\n",
    "}\n",
    "\n",
    "rf = RandomForestClassifier(random_state=42)\n",
    "grid_search = GridSearchCV(estimator=rf, param_grid=param_grid, cv=3, n_jobs=-1, verbose=2)\n",
    "grid_search.fit(X_train, y_train)\n",
    "\n",
    "print(grid_search.best_params_)\n",
    "print(grid_search.best_score_)"
   ]
  },
  {
   "cell_type": "code",
   "execution_count": 63,
   "id": "1f6af529-5924-4182-aa7c-03afcb7c48f4",
   "metadata": {},
   "outputs": [],
   "source": [
    "from sklearn.preprocessing import StandardScaler\n",
    "scaler = StandardScaler()\n",
    "X_train_scaled = scaler.fit_transform(X_train)\n",
    "X_test_scaled = scaler.transform(X_test)\n"
   ]
  },
  {
   "cell_type": "code",
   "execution_count": 71,
   "id": "0cf07f1f-fc2b-40e5-8f31-caf556443ae8",
   "metadata": {},
   "outputs": [
    {
     "name": "stdout",
     "output_type": "stream",
     "text": [
      "0.6928381962864721\n"
     ]
    }
   ],
   "source": [
    "from xgboost import XGBClassifier  \n",
    "estimators = [\n",
    "    ('rf', RandomForestClassifier(**grid_search.best_params_)),  \n",
    "    ('xgb', XGBClassifier(use_label_encoder=False, eval_metric='mlogloss')) \n",
    "]\n",
    "\n",
    "clf = StackingClassifier(estimators=estimators, final_estimator=LogisticRegression())\n",
    "clf.fit(X_train_scaled, y_train)  \n",
    "print(clf.score(X_test_scaled, y_test)) "
   ]
  },
  {
   "cell_type": "code",
   "execution_count": 73,
   "id": "1d51e019-8e8b-4311-8ebc-dc6c781c8577",
   "metadata": {},
   "outputs": [
    {
     "name": "stdout",
     "output_type": "stream",
     "text": [
      "Test Accuracy: 0.6663129973474801\n"
     ]
    }
   ],
   "source": [
    "from sklearn.ensemble import GradientBoostingClassifier\n",
    "\n",
    "gbm = GradientBoostingClassifier(n_estimators=200, learning_rate=0.1, max_depth=3)\n",
    "gbm.fit(X_train_scaled, y_train)\n",
    "print(f\"Test Accuracy: {gbm.score(X_test_scaled, y_test)}\")\n"
   ]
  },
  {
   "cell_type": "code",
   "execution_count": 77,
   "id": "646b7e66-86fa-44cd-913b-88d8adc0e934",
   "metadata": {},
   "outputs": [
    {
     "name": "stdout",
     "output_type": "stream",
     "text": [
      "Fitting 3 folds for each of 32 candidates, totalling 96 fits\n",
      "Best Parameters: {'C': 1, 'gamma': 'scale', 'kernel': 'rbf'}\n",
      "Best Cross-Validation Accuracy: 0.7145129109723962\n",
      "Test Accuracy: 0.7119363395225464\n"
     ]
    }
   ],
   "source": [
    "from sklearn.svm import SVC\n",
    "from sklearn.model_selection import GridSearchCV\n",
    "\n",
    "svm = SVC()\n",
    "\n",
    "param_grid = {\n",
    "    'C': [0.1, 1, 10, 100],  \n",
    "    'kernel': ['linear', 'rbf'],  \n",
    "    'gamma': ['scale', 0.1, 0.01, 0.001]  \n",
    "}\n",
    "\n",
    "grid_search = GridSearchCV(estimator=svm, param_grid=param_grid, cv=3, scoring='accuracy', verbose=2, n_jobs=-1)\n",
    "grid_search.fit(X_train_scaled, y_train)  \n",
    "\n",
    "print(\"Best Parameters:\", grid_search.best_params_)\n",
    "print(\"Best Cross-Validation Accuracy:\", grid_search.best_score_)\n",
    "\n",
    "best_svm = grid_search.best_estimator_\n",
    "test_accuracy = best_svm.score(X_test_scaled, y_test)\n",
    "print(\"Test Accuracy:\", test_accuracy)\n"
   ]
  },
  {
   "cell_type": "code",
   "execution_count": 78,
   "id": "ca8538f6-4ccb-42d8-931a-cf9482dc231f",
   "metadata": {},
   "outputs": [
    {
     "name": "stdout",
     "output_type": "stream",
     "text": [
      "Unscaled Test Accuracy: 0.7061007957559682\n",
      "Scaled Test Accuracy: 0.7119363395225464\n"
     ]
    }
   ],
   "source": [
    "svm_unscaled = SVC(C=1, kernel='rbf', gamma='scale')\n",
    "svm_unscaled.fit(X_train, y_train)\n",
    "accuracy_unscaled = svm_unscaled.score(X_test, y_test)\n",
    "print(f\"Unscaled Test Accuracy: {accuracy_unscaled}\")\n",
    "\n",
    "svm_scaled = SVC(C=1, kernel='rbf', gamma='scale')\n",
    "svm_scaled.fit(X_train_scaled, y_train)\n",
    "accuracy_scaled = svm_scaled.score(X_test_scaled, y_test)\n",
    "print(f\"Scaled Test Accuracy: {accuracy_scaled}\")\n"
   ]
  },
  {
   "cell_type": "code",
   "execution_count": 81,
   "id": "d8cf95a7-7504-43f8-ab61-d53cf7379eda",
   "metadata": {},
   "outputs": [
    {
     "data": {
      "image/png": "[encoded data removed]",
      "text/plain": [
       "<Figure size 640x480 with 2 Axes>"
      ]
     },
     "metadata": {},
     "output_type": "display_data"
    },
    {
     "name": "stdout",
     "output_type": "stream",
     "text": [
      "              precision    recall  f1-score   support\n",
      "\n",
      "           0       0.47      0.54      0.50       151\n",
      "           1       0.63      0.72      0.67       202\n",
      "           2       0.67      0.62      0.64       195\n",
      "           3       0.63      0.67      0.65       183\n",
      "           4       0.81      0.65      0.72       205\n",
      "           5       0.89      0.80      0.84       215\n",
      "           6       0.78      0.76      0.77       193\n",
      "           7       0.53      0.77      0.63       196\n",
      "           8       0.57      0.76      0.65       168\n",
      "           9       0.88      0.81      0.84       211\n",
      "          10       0.93      0.87      0.90       198\n",
      "          11       0.87      0.71      0.78       201\n",
      "          12       0.65      0.64      0.64       202\n",
      "          13       0.88      0.82      0.85       194\n",
      "          14       0.74      0.79      0.77       189\n",
      "          15       0.69      0.81      0.74       202\n",
      "          16       0.66      0.75      0.70       188\n",
      "          17       0.81      0.75      0.78       182\n",
      "          18       0.65      0.62      0.64       159\n",
      "          19       0.49      0.13      0.21       136\n",
      "\n",
      "    accuracy                           0.71      3770\n",
      "   macro avg       0.71      0.70      0.70      3770\n",
      "weighted avg       0.72      0.71      0.71      3770\n",
      "\n"
     ]
    }
   ],
   "source": [
    "from sklearn.metrics import confusion_matrix, classification_report\n",
    "import seaborn as sns\n",
    "\n",
    "y_pred = grid_search.best_estimator_.predict(X_test_scaled)\n",
    "cm = confusion_matrix(y_test, y_pred)\n",
    "sns.heatmap(cm, annot=True, fmt=\"d\", cmap=\"Blues\")\n",
    "plt.xlabel(\"Predicted\")\n",
    "plt.ylabel(\"Actual\")\n",
    "plt.show()\n",
    "\n",
    "print(classification_report(y_test, y_pred))\n"
   ]
  }
 ],
 "metadata": {
  "kernelspec": {
   "display_name": "Python 3 (ipykernel)",
   "language": "python",
   "name": "python3"
  },
  "language_info": {
   "codemirror_mode": {
    "name": "ipython",
    "version": 3
   },
   "file_extension": ".py",
   "mimetype": "text/x-python",
   "name": "python",
   "nbconvert_exporter": "python",
   "pygments_lexer": "ipython3",
   "version": "3.11.7"
  }
 },
 "nbformat": 4,
 "nbformat_minor": 5
}
